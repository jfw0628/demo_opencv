{
 "cells": [
  {
   "cell_type": "markdown",
   "id": "22f01561",
   "metadata": {},
   "source": [
    "# Rotate image with any degree\n",
    "In the 05 chapter, we use opencv warpAffine function applys matrix to adjust image \n",
    "How can we get rotate matrix."
   ]
  },
  {
   "cell_type": "markdown",
   "id": "89821a97",
   "metadata": {},
   "source": [
    "What rotate matrix do is the follow function: ((x, y) is the position of image)\n",
    "$$\\begin{cases}\n",
    "a1x+b1y+c1=u\\\\\n",
    "a2x+b2y+c2=v\\\\\n",
    "0*x+0*y+1*1=1\\\\\n",
    "\\end{cases}\n",
    "$$"
   ]
  },
  {
   "cell_type": "markdown",
   "id": "7de6ae57",
   "metadata": {},
   "source": [
    "### So how could we get a1, a2, b1, b2, and c1, c2\n",
    "\n",
    "The follow inputs are required:\n",
    "- Center of Rotation:\n",
    "The center parameter specifies the point around which the rotation will happen. Typically, it's defined as (width/2, height/2) to rotate the image around its center. But you can choose any point as the center of rotation.\n",
    "\n",
    "\n",
    "- Angle of Rotation:\n",
    "You specify the angle parameter to define the amount of rotation in degrees. Positive angles denote clockwise rotation, and negative angles denote counter-clockwise rotation.\n",
    "\n",
    "- Scaling Factor (Optional):\n",
    "The scale parameter is optional and can be used to scale the rotated image. If no scaling is needed, it can be set to 1.0.\n",
    "\n",
    "\n",
    "\n",
    "Rotation Matrix:\n",
    "\n",
    "Internally, the function constructs a 2x3 rotation matrix (M) that defines the affine transformation for rotation.\n",
    "\n",
    "$$\\begin{cases}\n",
    "α+β+c1=u\\\\\n",
    "β+α+c2=v\\\\\n",
    "\\end{cases}\n",
    "$$\n",
    "\n",
    "\n",
    "\n",
    "Where:  \n",
    "\n",
    "\n",
    "α= scale ⋅ cos(angle)  \n",
    "β= scale ⋅ sin(angle)  \n",
    "\n",
    "c1 = (1−α)⋅center.x−β⋅center.y  \n",
    "c2 = β⋅center.x+(1−α)⋅center.y  \n",
    " \n",
    "\n",
    "The matrix expresses both rotation and scaling.  \n",
    "\n"
   ]
  },
  {
   "cell_type": "markdown",
   "id": "f5f27b8f",
   "metadata": {},
   "source": [
    "Opencv provides a function called   \n",
    "cv2.getRotateMatrix2D((center_x, center_y), angle, scale)"
   ]
  },
  {
   "cell_type": "code",
   "execution_count": 1,
   "id": "d2ab33c4",
   "metadata": {},
   "outputs": [],
   "source": [
    "import cv2"
   ]
  },
  {
   "cell_type": "code",
   "execution_count": 6,
   "id": "a271b1f1",
   "metadata": {},
   "outputs": [
    {
     "data": {
      "text/plain": [
       "array([[ 6.12323400e-17,  1.00000000e+00, -5.68434189e-14],\n",
       "       [-1.00000000e+00,  6.12323400e-17,  8.00000000e+02]])"
      ]
     },
     "execution_count": 6,
     "metadata": {},
     "output_type": "execute_result"
    }
   ],
   "source": [
    "# Rotate 90 degree,\n",
    "cv2.getRotationMatrix2D((400, 400), 90, 1)"
   ]
  },
  {
   "cell_type": "code",
   "execution_count": 4,
   "id": "17808daf",
   "metadata": {},
   "outputs": [
    {
     "data": {
      "text/plain": [
       "array([[ 6.12323400e-17, -1.00000000e+00,  8.00000000e+02],\n",
       "       [ 1.00000000e+00,  6.12323400e-17, -5.68434189e-14]])"
      ]
     },
     "execution_count": 4,
     "metadata": {},
     "output_type": "execute_result"
    }
   ],
   "source": [
    "# Rotate -90 degree\n",
    "cv2.getRotationMatrix2D((400, 400), -90, 1)"
   ]
  },
  {
   "cell_type": "code",
   "execution_count": 7,
   "id": "0270dba6",
   "metadata": {},
   "outputs": [
    {
     "data": {
      "text/plain": [
       "array([[-1.0000000e+00,  1.2246468e-16,  8.0000000e+02],\n",
       "       [-1.2246468e-16, -1.0000000e+00,  8.0000000e+02]])"
      ]
     },
     "execution_count": 7,
     "metadata": {},
     "output_type": "execute_result"
    }
   ],
   "source": [
    "# Rotate 180 degree\n",
    "cv2.getRotationMatrix2D((400, 400), 180, 1)"
   ]
  },
  {
   "cell_type": "code",
   "execution_count": 8,
   "id": "5a16f90d",
   "metadata": {},
   "outputs": [
    {
     "data": {
      "text/plain": [
       "array([[-1.0000000e+00, -1.2246468e-16,  8.0000000e+02],\n",
       "       [ 1.2246468e-16, -1.0000000e+00,  8.0000000e+02]])"
      ]
     },
     "execution_count": 8,
     "metadata": {},
     "output_type": "execute_result"
    }
   ],
   "source": [
    "# Rotate -180 degree\n",
    "cv2.getRotationMatrix2D((400, 400), -180, 1)"
   ]
  },
  {
   "cell_type": "code",
   "execution_count": 9,
   "id": "9457410e",
   "metadata": {},
   "outputs": [
    {
     "data": {
      "text/plain": [
       "array([[ 1.,  0.,  0.],\n",
       "       [-0.,  1.,  0.]])"
      ]
     },
     "execution_count": 9,
     "metadata": {},
     "output_type": "execute_result"
    }
   ],
   "source": [
    "# Rotate 180 degree\n",
    "cv2.getRotationMatrix2D((400, 400), 0, 1)"
   ]
  },
  {
   "cell_type": "code",
   "execution_count": 10,
   "id": "72f28a9d",
   "metadata": {},
   "outputs": [
    {
     "data": {
      "text/plain": [
       "array([[ 1.00000000e+00, -4.89858720e-16,  1.95943488e-13],\n",
       "       [ 4.89858720e-16,  1.00000000e+00, -1.95943488e-13]])"
      ]
     },
     "execution_count": 10,
     "metadata": {},
     "output_type": "execute_result"
    }
   ],
   "source": [
    "# Rotate 180 degree\n",
    "cv2.getRotationMatrix2D((400, 400), 720, 1)"
   ]
  },
  {
   "cell_type": "code",
   "execution_count": 11,
   "id": "2105b0c6",
   "metadata": {},
   "outputs": [
    {
     "data": {
      "text/plain": [
       "array([[   0.70710678,    0.70710678, -165.68542495],\n",
       "       [  -0.70710678,    0.70710678,  400.        ]])"
      ]
     },
     "execution_count": 11,
     "metadata": {},
     "output_type": "execute_result"
    }
   ],
   "source": [
    "cv2.getRotationMatrix2D((400, 400), 45, 1)"
   ]
  },
  {
   "cell_type": "code",
   "execution_count": 12,
   "id": "18841fa9",
   "metadata": {},
   "outputs": [
    {
     "data": {
      "text/plain": [
       "array([[   0.70710678,   -0.70710678,  400.        ],\n",
       "       [   0.70710678,    0.70710678, -165.68542495]])"
      ]
     },
     "execution_count": 12,
     "metadata": {},
     "output_type": "execute_result"
    }
   ],
   "source": [
    "cv2.getRotationMatrix2D((400, 400), -45, 1)"
   ]
  },
  {
   "cell_type": "code",
   "execution_count": null,
   "id": "bc81d01c",
   "metadata": {},
   "outputs": [],
   "source": []
  }
 ],
 "metadata": {
  "kernelspec": {
   "display_name": "Python 3 (ipykernel)",
   "language": "python",
   "name": "python3"
  },
  "language_info": {
   "codemirror_mode": {
    "name": "ipython",
    "version": 3
   },
   "file_extension": ".py",
   "mimetype": "text/x-python",
   "name": "python",
   "nbconvert_exporter": "python",
   "pygments_lexer": "ipython3",
   "version": "3.7.16"
  }
 },
 "nbformat": 4,
 "nbformat_minor": 5
}
